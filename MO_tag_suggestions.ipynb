{
  "nbformat": 4,
  "nbformat_minor": 0,
  "metadata": {
    "colab": {
      "name": "MO_tag_suggestions.ipynb",
      "provenance": []
    },
    "kernelspec": {
      "name": "python3",
      "display_name": "Python 3"
    },
    "language_info": {
      "name": "python"
    }
  },
  "cells": [
    {
      "cell_type": "markdown",
      "source": [
        "The goal of this project is to use machine learning to create a model using deep learning that can suggests tags for a question on [MathOverflow](https://mathoverflow.net) from the title. This is an example of a multiclass multilabel classification problem. This notebook was created using [Google Colab](https://colab.research.google.com/?utm_source=scs-index) and the model is constructed using Keras in TensorFlow.\n",
        "\n",
        "MathOverflow is a research-level Q&A site for mathematicians. Each question must have between 1 and 5 tags. The tags serve to organize the questions by area of math."
      ],
      "metadata": {
        "id": "wHKHCR0PYhkv"
      }
    },
    {
      "cell_type": "code",
      "execution_count": null,
      "metadata": {
        "id": "lGS4CqRSVN1W"
      },
      "outputs": [],
      "source": [
        "import tensorflow as tf\n",
        "import numpy as np\n",
        "import pandas as pd\n",
        "#allow importing of data from google drive\n",
        "from google.colab import drive  \n",
        "drive.mount('/content/drive')"
      ]
    },
    {
      "cell_type": "markdown",
      "source": [
        "We start by importing and merging all our data and labels. Our data was manually queried using SQL from Stack Exchange Data Explorer, https://data.stackexchange.com/. It consists of 3 subsets of data, organized by date, on questions asked between 2018 and early 2022, for a total of 47206 entries. I originally gathered more data but ended up restricting to this due to resource constraints in Colab.\n"
      ],
      "metadata": {
        "id": "6Un-_qXEVb19"
      }
    },
    {
      "cell_type": "code",
      "source": [
        "import glob\n",
        "import os\n",
        "\n",
        "#import dataset with tags info\n",
        "path_tags = '/content/drive/MyDrive/data/tags.csv'\n",
        "tags = pd.read_csv(path_tags)\n",
        "\n",
        "#create and merge csv files into dataframe\n",
        "base_data_path = '/content/drive/MyDrive/data'\n",
        "data_files = os.path.join(base_data_path, '2*.csv')\n",
        "data_files = glob.glob(data_files)\n",
        "df = pd.concat(map(pd.read_csv, data_files), ignore_index=True)\n",
        "print('Number of questions:', len(df))"
      ],
      "metadata": {
        "id": "KxKAzOVbVYjX",
        "colab": {
          "base_uri": "https://localhost:8080/"
        },
        "outputId": "0779ef3d-9676-46e9-de88-4cd3f5487198"
      },
      "execution_count": 71,
      "outputs": [
        {
          "output_type": "stream",
          "name": "stdout",
          "text": [
            "Number of questions: 47206\n"
          ]
        }
      ]
    },
    {
      "cell_type": "markdown",
      "source": [
        "To prepare our data we tokenize the titles and use a one-hot encoding. We restrict our dictionary to the 10000 most common words."
      ],
      "metadata": {
        "id": "NCHdDfuxaSph"
      }
    },
    {
      "cell_type": "code",
      "source": [
        "from tensorflow.keras.preprocessing.text import Tokenizer\n",
        "\n",
        "#instantiate the tokenizer and set the max dictionary size\n",
        "max_num_words = 10000\n",
        "tokenizer = Tokenizer(num_words = max_num_words)\n",
        "#build word index\n",
        "tokenizer.fit_on_texts(df['Title'])\n",
        "#check size of dictionary\n",
        "word_index = tokenizer.word_index\n",
        "print('Number of unique words:', len(word_index))\n",
        "\n",
        "#turn strings into integer indeces\n",
        "#why?\n",
        "sequences = tokenizer.texts_to_sequences(df['Title'])\n",
        "\n",
        "#get one-hot binary representation\n",
        "one_hot_results = tokenizer.texts_to_matrix(df['Title'], mode='binary')"
      ],
      "metadata": {
        "id": "mY5-VthzaaIr",
        "colab": {
          "base_uri": "https://localhost:8080/"
        },
        "outputId": "2c333639-d936-4bea-81d2-4c38782c55d1"
      },
      "execution_count": null,
      "outputs": [
        {
          "output_type": "stream",
          "name": "stdout",
          "text": [
            "Number of unique words: 16182\n"
          ]
        }
      ]
    },
    {
      "cell_type": "markdown",
      "source": [
        "We do the same for our labels, restricting to the 1000 most commonly used tags (the total number of tags used during this time period is given as output of the following cell). For interest, the 500 least used tags have been used (approximately) less than 20 times each, all-time."
      ],
      "metadata": {
        "id": "weEGgo1Wak7x"
      }
    },
    {
      "cell_type": "code",
      "source": [
        "#instantiate the tag tokenizer and set the max dictionary size\n",
        "#NOTE: There are 1520 tags so this doesn't include them them all.\n",
        "#NOTE: Tags are listed like <tag-1>...<tag-k>, where k <= 5, so we only need to filter out the chars <>\n",
        "max_num_tags = 1000\n",
        "tag_tokenizer = Tokenizer(num_words = max_num_tags, filters='<>')\n",
        "#build word index\n",
        "tag_tokenizer.fit_on_texts(df['Tags'])\n",
        "#check size of dictionary\n",
        "tag_index = tag_tokenizer.word_index\n",
        "print('Number of unique tags:', len(tag_index))\n",
        "\n",
        "#turn strings into integer indeces\n",
        "#why?\n",
        "tag_sequences = tag_tokenizer.texts_to_sequences(df['Tags'])\n",
        "\n",
        "#get one-hot binary representation\n",
        "tag_one_hot_results = tag_tokenizer.texts_to_matrix(df['Tags'], mode='binary')"
      ],
      "metadata": {
        "id": "9o8MI7afaoy9",
        "colab": {
          "base_uri": "https://localhost:8080/"
        },
        "outputId": "c27046c2-0c63-4139-b1d2-4a81c2cf2f4a"
      },
      "execution_count": null,
      "outputs": [
        {
          "output_type": "stream",
          "name": "stdout",
          "text": [
            "Number of unique tags: 1473\n"
          ]
        }
      ]
    },
    {
      "cell_type": "markdown",
      "source": [
        "Before we do anything else let's take a look at our data to get a better feeling of what we're dealing with and double check it makes sense. The following code block tells us the average length per title, plot a histogram of title lengths, and plot the frequency distribution of the 20 most commonly used words."
      ],
      "metadata": {
        "id": "Zt-WUZRXgnAY"
      }
    },
    {
      "cell_type": "code",
      "source": [
        "import matplotlib.pyplot as plt\n",
        "\n",
        "num_words = [len(title.split()) for title in df['Title']]\n",
        "avg_num_words = np.median(num_words)\n",
        "print('Average number of words per title:', avg_num_words)\n",
        "\n",
        "plt.hist(num_words, 15)\n",
        "plt.xlabel('Length of title')\n",
        "plt.ylabel('Number of samples')\n",
        "plt.title('Sample length distribution')"
      ],
      "metadata": {
        "colab": {
          "base_uri": "https://localhost:8080/",
          "height": 330
        },
        "id": "JxeMiPe7gn3e",
        "outputId": "0e9b4da0-3f74-440e-fb61-d05060535d60"
      },
      "execution_count": null,
      "outputs": [
        {
          "output_type": "stream",
          "name": "stdout",
          "text": [
            "Average number of words per title: 8.0\n"
          ]
        },
        {
          "output_type": "execute_result",
          "data": {
            "text/plain": [
              "Text(0.5, 1.0, 'Sample length distribution')"
            ]
          },
          "metadata": {},
          "execution_count": 22
        },
        {
          "output_type": "display_data",
          "data": {
            "text/plain": [
              "<Figure size 432x288 with 1 Axes>"
            ],
            "image/png": "[encoded data removed]"
          },
          "metadata": {
            "needs_background": "light"
          }
        }
      ]
    },
    {
      "cell_type": "code",
      "source": [
        "plt.clf()\n",
        "#get a list of (word, frequency) pairs sorted in decreasing order by frequency from the tokenizer\n",
        "common_words = sorted(tokenizer.word_counts.items(), key = lambda x: x[1], reverse=True)\n",
        "num_most_common = 20\n",
        "x_data = [common_words[i][0] for i in range(num_most_common)]\n",
        "y_data = [common_words[i][1] for i in range(num_most_common)]\n",
        "plt.barh(x_data, y_data)\n",
        "plt.xlabel('Word'), plt.ylabel('Frequency')\n",
        "plt.title('Frequency distribution of the '+str(num_most_common)+' most common words')"
      ],
      "metadata": {
        "colab": {
          "base_uri": "https://localhost:8080/",
          "height": 312
        },
        "id": "ecwxlobFnGYz",
        "outputId": "5eb42201-67bd-4ac2-a28b-438aae07d190"
      },
      "execution_count": null,
      "outputs": [
        {
          "output_type": "execute_result",
          "data": {
            "text/plain": [
              "Text(0.5, 1.0, 'Frequency distribution of the 20 most common words')"
            ]
          },
          "metadata": {},
          "execution_count": 57
        },
        {
          "output_type": "display_data",
          "data": {
            "text/plain": [
              "<Figure size 432x288 with 1 Axes>"
            ],
            "image/png": "[encoded data removed]"
          },
          "metadata": {
            "needs_background": "light"
          }
        }
      ]
    },
    {
      "cell_type": "markdown",
      "source": [
        "Next, we shuffle and split our data and labels into training, validation, and test parts. Since we have a wealth of data, a hold-out validation set should be a sufficient evaluation protocol. The number of samples of each type are as follows:\n",
        "\n",
        "*   training = 30000 (of which 10000 are reserved for validation)\n",
        "*   testing = 17206\n",
        "*   total = 47206\n",
        "\n"
      ],
      "metadata": {
        "id": "gcT3xKN8bDNc"
      }
    },
    {
      "cell_type": "code",
      "source": [
        "training_size = 30000\n",
        "val_size = 10000\n",
        "\n",
        "#rename and shuffle\n",
        "data, labels = one_hot_results, tag_one_hot_results\n",
        "indices = np.arange(data.shape[0])\n",
        "np.random.shuffle(indices)\n",
        "data, labels = data[indices], labels[indices]\n",
        "\n",
        "train_data, test_data = data[:training_size], data[training_size:]\n",
        "train_labels, test_labels = labels[:training_size], labels[training_size:]\n",
        "\n",
        "#set aside validation data and labels, and rename training data and labels.\n",
        "val_data, val_labels = train_data[:val_size], train_labels[:val_size]\n",
        "train_data, train_labels = train_data[val_size:], train_labels[val_size:]"
      ],
      "metadata": {
        "id": "NKvJ2OyxbgMK"
      },
      "execution_count": null,
      "outputs": []
    },
    {
      "cell_type": "markdown",
      "source": [
        "---\n",
        "Now that we have our data in a nice form let's build the model. Since it's a multiclass multilabel problem our last layer should be sigmoid and a good loss function is binary_crossentropy. The number of units in the last layer should be the number of possible labels (tags). We give each layer 1028 hidden units since we want that number to be larger than the dimension of our output space (1000). I tried training the model with and without dropout to regularize it. I had no particular reason for choosing the number of layers or the optimizer."
      ],
      "metadata": {
        "id": "rsEzHaRcc8up"
      }
    },
    {
      "cell_type": "code",
      "source": [
        "from tensorflow.keras import models\n",
        "from tensorflow.keras import layers\n",
        "\n",
        "#create the model\n",
        "hidden_units = 1028\n",
        "model = models.Sequential()\n",
        "model.add(layers.Dense(hidden_units, activation='relu', input_shape=(10000,)))\n",
        "#model.add(layers.Dropout(0.5))\n",
        "model.add(layers.Dense(hidden_units, activation='relu'))\n",
        "#model.add(layers.Dropout(0.5))\n",
        "model.add(layers.Dense(max_num_tags, activation='sigmoid'))\n",
        "\n",
        "#compile it\n",
        "model.compile(optimizer='rmsprop',\n",
        "              loss='binary_crossentropy',\n",
        "              metrics=['accuracy'])"
      ],
      "metadata": {
        "id": "e-THA4KedSIH"
      },
      "execution_count": null,
      "outputs": []
    },
    {
      "cell_type": "code",
      "source": [
        "#train the model\n",
        "history = model.fit(train_data, train_labels,\n",
        "                    epochs=9, batch_size=512,\n",
        "                    validation_data=(val_data, val_labels))"
      ],
      "metadata": {
        "id": "rDZRi_-gdUxV"
      },
      "execution_count": null,
      "outputs": []
    },
    {
      "cell_type": "code",
      "source": [
        "#alternatively we can load one of our pretrained models\n",
        "#model = tf.keras.models.load_model('/content/drive/MyDrive/saved_models/mo_tag_suggestions2_no_dropout')\n",
        "model = tf.keras.models.load_model('/content/drive/MyDrive/saved_models/mo_tag_suggestions2_w_dropout')\n",
        "#model.summary()"
      ],
      "metadata": {
        "id": "8hlmmE4mm8FJ"
      },
      "execution_count": null,
      "outputs": []
    },
    {
      "cell_type": "markdown",
      "source": [
        "To evaluate our model and avoid overfitting, we plot the training and validation loss and accuracy."
      ],
      "metadata": {
        "id": "n4wXu648dble"
      }
    },
    {
      "cell_type": "code",
      "source": [
        "import matplotlib.pyplot as plt\n",
        "\n",
        "#get dictionary of data history of the model and extract relevant stuff to plot\n",
        "history_dict = history.history\n",
        "loss = history_dict['loss']\n",
        "val_loss = history_dict['val_loss']\n",
        "acc = history_dict['accuracy']\n",
        "val_acc = history_dict['val_accuracy']\n",
        "epochs = range(1, len(loss)+1)"
      ],
      "metadata": {
        "id": "lzmSX07idiAa"
      },
      "execution_count": null,
      "outputs": []
    },
    {
      "cell_type": "code",
      "source": [
        "#Plot training and validation loss\n",
        "#if necessary, you can change the offset skip the first few data points to get a nicer graph\n",
        "offset, val_offset = 1, 1\n",
        "plt.plot(range(1 + offset, len(epochs)+1), loss[offset:], 'bo', label='Training loss')\n",
        "plt.plot(range(1 + val_offset, len(epochs)+1), val_loss[val_offset:], 'b', label='Validation loss')\n",
        "plt.title('Training and validation loss')\n",
        "plt.xlabel('Epochs')\n",
        "plt.ylabel('Loss')\n",
        "plt.legend()\n",
        "plt.show()"
      ],
      "metadata": {
        "id": "eWqiNT-Pdt_h"
      },
      "execution_count": null,
      "outputs": []
    },
    {
      "cell_type": "code",
      "source": [
        "#Plot training and validation accuracy\n",
        "plt.clf()\n",
        "offset, val_offset = 0, 0\n",
        "plt.plot(range(1 + offset, len(epochs)+1), acc[offset:], 'bo', label='Training accuracy')\n",
        "plt.plot(range(1 + val_offset, len(epochs)+1), val_acc[val_offset:], 'b', label='Validation accuracy')\n",
        "plt.title('Training and validation accuracy')\n",
        "plt.xlabel('Epochs')\n",
        "plt.ylabel('Accuracy')\n",
        "plt.legend()\n",
        "plt.show()"
      ],
      "metadata": {
        "id": "1Zp7NjFFdx6H"
      },
      "execution_count": null,
      "outputs": []
    },
    {
      "cell_type": "markdown",
      "source": [
        "I tried fitting the model for 25/20 epochs with/without dropout. The results are shown below."
      ],
      "metadata": {
        "id": "0ZYjTeXbl5_3"
      }
    },
    {
      "cell_type": "markdown",
      "source": [
        "With two layers of dropout:\n",
        "1. ![loss_graph_2_wdubdrop.png](data:image/png;base64,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)\n",
        "2. ![acc_graph_2_wdubdrop_off2.png](data:image/png;base64,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)"
      ],
      "metadata": {
        "id": "RkjUvX5BlK1i"
      }
    },
    {
      "cell_type": "markdown",
      "source": [
        "With no dropout:\n",
        "1. ![loss_graph_2_nodrop_off1.png](data:image/png;base64,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)\n",
        "2. ![acc_graph_2_nodrop_off1.png](data:image/png;base64,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)"
      ],
      "metadata": {
        "id": "5zsywJColYj6"
      }
    },
    {
      "cell_type": "markdown",
      "source": [
        "Using these graphs we can see when the model starts to overfit, then retrain and save an optimized version. Our no-dropout model is trained to 9 epochs and our dropout model is trained to 11. The latter is the model we will use for our examples below."
      ],
      "metadata": {
        "id": "oKkKITrVl4V6"
      }
    },
    {
      "cell_type": "code",
      "source": [
        "#go back and retrain the model\n",
        "#save the model to google drive\n",
        "model.save('/content/drive/MyDrive/saved_models/mo_tag_suggestions2_no_dropout')"
      ],
      "metadata": {
        "id": "0p9J42eRba_l"
      },
      "execution_count": null,
      "outputs": []
    },
    {
      "cell_type": "markdown",
      "source": [
        "Finally, we give some examples of the model on test data. As we can see from running the next cell, the model has a 45% accuracy on our test data, which seems really good, or at least way above random!"
      ],
      "metadata": {
        "id": "VdzdXAmmhY_S"
      }
    },
    {
      "cell_type": "code",
      "source": [
        "loss, acc = model.evaluate(test_data, test_labels, verbose=2)\n",
        "print('Restored model, accuracy: {:5.2f}%'.format(100 * acc))"
      ],
      "metadata": {
        "colab": {
          "base_uri": "https://localhost:8080/"
        },
        "id": "7g5hBewRvD0U",
        "outputId": "ddb37d7b-eff6-48bb-917c-5ecfbdbe9154"
      },
      "execution_count": null,
      "outputs": [
        {
          "output_type": "stream",
          "name": "stdout",
          "text": [
            "538/538 - 14s - loss: 0.0112 - accuracy: 0.4542 - 14s/epoch - 26ms/step\n",
            "Restored model, accuracy: 45.42%\n"
          ]
        }
      ]
    },
    {
      "cell_type": "markdown",
      "source": [
        "Since there is no objectively *correct* set of tags for any MO question, let's test our model on some of our test questions and examine what we get. We start by writing some helper functions to show our predictions."
      ],
      "metadata": {
        "id": "1gqvL4EVvRFW"
      }
    },
    {
      "cell_type": "code",
      "source": [
        "#create bijection between tag strings and their values in our tokenizer\n",
        "def get_tag_index(tag_name):\n",
        "  return tag_index[tag_name]\n",
        "\n",
        "inverse_tag_index = {}\n",
        "for key, val in tag_index.items():\n",
        "  inverse_tag_index[val] = key\n",
        "\n",
        "def get_tag_name(tag_index):\n",
        "  return inverse_tag_index[tag_index]"
      ],
      "metadata": {
        "id": "nvmB1wHas8xy"
      },
      "execution_count": null,
      "outputs": []
    },
    {
      "cell_type": "code",
      "source": [
        "#create a function to guess the tags of a post from it's title (given an array containing the model's guess)\n",
        "\n",
        "#first we need to be able to fin  d the n largest elements from a numpy array and their indices\n",
        "#the following fn returns a dictionary of n items\n",
        "#each key is one of the n largest items in the array\n",
        "#each value is the position in the array of that value\n",
        "def maxn_dict(array, n=1):\n",
        "  result = {}\n",
        "  ar = np.copy(array)\n",
        "  ind = np.argpartition(ar, -n)[-n:]\n",
        "  for i in range(len(ind)):\n",
        "    result[ar[ind][i]] = ind[i]\n",
        "  return result\n",
        "\n",
        "def guess_tags(array, n=5):\n",
        "  tags_w_probability = maxn_dict(array, n)\n",
        "  for k, v in tags_w_probability.items():\n",
        "    tags_w_probability[k] = get_tag_name(v)\n",
        "  return tags_w_probability\n",
        "\n",
        "#print_predicted_tags takes a prediction from the model and prints the names and prediction probability\n",
        "#of the n most likely tags, having probability at least (threshold*100)%\n",
        "def print_predicted_tags(array, n=5, threshold=0):\n",
        "  high_prob_tags = guess_tags(array, n)\n",
        "  for k, v in high_prob_tags.items():\n",
        "    if k > threshold:\n",
        "      print(v, str(int(k*100))+'%')\n",
        "\n",
        "def check_true_tags(array):\n",
        "  result = np.where(array==1)\n",
        "  true_tags=[]\n",
        "  for r in result[0]:\n",
        "    true_tags.append(get_tag_name(r))\n",
        "  return true_tags\n",
        "\n",
        "def guess_and_check(array, list):\n",
        "  for n in list:\n",
        "    print('\\nTest sample ' + str(n))\n",
        "    print('\\nWe suggest the following tags:')\n",
        "    print_predicted_tags(array[n], n=5, threshold=0.02)\n",
        "    print('\\nTrue tags used: ' + str(check_true_tags(test_labels[n])))"
      ],
      "metadata": {
        "id": "YeAJKNk3s-vP"
      },
      "execution_count": null,
      "outputs": []
    },
    {
      "cell_type": "code",
      "source": [
        "#show predicted and given tags for the first n questions in our test set\n",
        "n=100\n",
        "predictions = model.predict(test_data[:n])\n",
        "guess_and_check(predictions, range(n))"
      ],
      "metadata": {
        "id": "HrusDlXls0fE"
      },
      "execution_count": null,
      "outputs": []
    },
    {
      "cell_type": "markdown",
      "source": [
        "As we can see from the results (see relevant text files), the model does a pretty good job at suggesting tags! It frequently suggests the same tags that were put on the question, and the other tags it suggests are generally within the same realm of math. For example, on test sample 0 with true tags ['reductive-groups', 'galois-representations', 'langlands-conjectures'], the top 10 tags it suggests are (not in order) finite-groups, langlands-conjectures, reference-request, gr.group-theory, automorphic-forms, reductive-groups, algebraic-number-theory, nt.number-theory, modular-forms, rt.representation-theory, reference-request, automorphic-forms, gr.group-theory, algebraic-number-theory, nt.number-theory, modular-forms, and rt.representation-theory. We can see the model has learned some math.\n",
        "\n",
        "For some fun and further validation we can test the model on titles we come up with! I do this with a few titles below. Feel free to add more and try it yourself!"
      ],
      "metadata": {
        "id": "QcMr-vu_vzmC"
      }
    },
    {
      "cell_type": "code",
      "source": [
        "#test on some titles I made up\n",
        "titles = ['Proof that the Hodge bundle $\\omega$ is an invertible sheaf on the modular curve.', 'A good reference for algebraic stacks.']\n",
        "my_titles = tokenizer.texts_to_matrix(titles, mode='binary')\n",
        "my_pred = model.predict(my_titles)\n",
        "for i in range(len(titles)):\n",
        "  print('\\nTitle:', titles[i])\n",
        "  print('\\nPredicted tags:')\n",
        "  print_predicted_tags(my_pred[i], n=5, threshold=0)"
      ],
      "metadata": {
        "colab": {
          "base_uri": "https://localhost:8080/"
        },
        "id": "o8BtXKIHAuDD",
        "outputId": "31d33386-224c-40fc-bcb3-6f67062027fd"
      },
      "execution_count": null,
      "outputs": [
        {
          "output_type": "stream",
          "name": "stdout",
          "text": [
            "\n",
            "Title: Proof that the Hodge bundle $\\omega$ is an invertible sheaf on the modular curve.\n",
            "\n",
            "Predicted tags:\n",
            "hodge-theory 9%\n",
            "moduli-spaces 9%\n",
            "dg.differential-geometry 13%\n",
            "complex-geometry 34%\n",
            "ag.algebraic-geometry 93%\n",
            "\n",
            "Title: A good reference for algebraic stacks.\n",
            "\n",
            "Predicted tags:\n",
            "homological-algebra 11%\n",
            "sheaf-theory 12%\n",
            "ct.category-theory 26%\n",
            "reference-request 56%\n",
            "ag.algebraic-geometry 81%\n"
          ]
        }
      ]
    }
  ]
}